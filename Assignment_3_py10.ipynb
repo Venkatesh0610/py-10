{
 "cells": [
  {
   "cell_type": "markdown",
   "metadata": {},
   "source": [
    "# Task 1"
   ]
  },
  {
   "cell_type": "markdown",
   "metadata": {},
   "source": [
    "1. Write a function to compute 5/0 and use try/except to catch the exceptions."
   ]
  },
  {
   "cell_type": "code",
   "execution_count": 1,
   "metadata": {},
   "outputs": [
    {
     "name": "stdout",
     "output_type": "stream",
     "text": [
      "The exception occured is a division by zero\n"
     ]
    }
   ],
   "source": [
    "def exception_handling():\n",
    "    try:\n",
    "        x=5/0\n",
    "        print(\"In try block\")\n",
    "    except Exception as e:\n",
    "        print(\"The exception occured is a\",e)\n",
    "exception_handling()"
   ]
  },
  {
   "cell_type": "markdown",
   "metadata": {},
   "source": [
    "2. Implement a Python program to generate all sentences where subject is in\n",
    "[\"Americans\", \"Indians\"] and verb is in [\"Play\", \"watch\"] and the object is in\n",
    "[\"Baseball\",\"cricket\"]."
   ]
  },
  {
   "cell_type": "code",
   "execution_count": 2,
   "metadata": {},
   "outputs": [
    {
     "name": "stdout",
     "output_type": "stream",
     "text": [
      "Americans play Baseball\n",
      "Americans play Cricket\n",
      "Americans watch Baseball\n",
      "Americans watch Cricket\n",
      "Indians play Baseball\n",
      "Indians play Cricket\n",
      "Indians watch Baseball\n",
      "Indians watch Cricket\n"
     ]
    }
   ],
   "source": [
    "subjects=[\"Americans\",\"Indians\"]\n",
    "verbs=[\"play\",\"watch\"]\n",
    "objects=[\"Baseball\",\"Cricket\"]\n",
    "x=[]\n",
    "def sentence():\n",
    "    for i in subjects:\n",
    "        for j in verbs:\n",
    "            for k in objects:\n",
    "                x.append(i+\" \"+j+\" \"+k)\n",
    "\n",
    "    for i in x:\n",
    "        print(i)\n",
    "sentence()"
   ]
  },
  {
   "cell_type": "markdown",
   "metadata": {},
   "source": [
    "# Task 2"
   ]
  },
  {
   "cell_type": "code",
   "execution_count": 3,
   "metadata": {},
   "outputs": [
    {
     "name": "stdout",
     "output_type": "stream",
     "text": [
      "Enter the number of elements in the array4\n",
      "[1, 2, 3, 4]\n",
      "No. of columns in output matrix needed:5\n",
      "Increasing or not: (yes/NO)yes\n"
     ]
    },
    {
     "data": {
      "text/plain": [
       "array([[  1,   1,   1,   1,   1],\n",
       "       [  1,   2,   4,   8,  16],\n",
       "       [  1,   3,   9,  27,  81],\n",
       "       [  1,   4,  16,  64, 256]])"
      ]
     },
     "execution_count": 3,
     "metadata": {},
     "output_type": "execute_result"
    }
   ],
   "source": [
    "import numpy as np\n",
    "\n",
    "def matrixToCheck(a, n, increasing=False):\n",
    "    \n",
    "    if not increasing:\n",
    "        result = np.array([x**(n-1-i) for x in a for i in range(n)]).reshape(a.size,n)\n",
    "    elif increasing:\n",
    "        result = np.array([x**i for x in a for i in range(n)]).reshape(a.size,n)\n",
    "    \n",
    "    return result\n",
    "NOE=int(input(\"Enter the number of elements in the array\"))\n",
    "arraylist=[]\n",
    "for i in range(1,NOE + 1):\n",
    "    arraylist.append(i)\n",
    "print (arraylist)\n",
    "\n",
    "inputvector = np.array(arraylist)\n",
    "ColumnsNeeded=int(input(\"No. of columns in output matrix needed:\"))\n",
    "increasingOrNot=bool(input(\"Increasing or not: (yes/NO)\"))\n",
    "result = matrixToCheck(inputvector,ColumnsNeeded,increasingOrNot)\n",
    "result"
   ]
  }
 ],
 "metadata": {
  "kernelspec": {
   "display_name": "Python 3",
   "language": "python",
   "name": "python3"
  },
  "language_info": {
   "codemirror_mode": {
    "name": "ipython",
    "version": 3
   },
   "file_extension": ".py",
   "mimetype": "text/x-python",
   "name": "python",
   "nbconvert_exporter": "python",
   "pygments_lexer": "ipython3",
   "version": "3.6.10"
  }
 },
 "nbformat": 4,
 "nbformat_minor": 4
}
