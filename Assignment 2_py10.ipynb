{
 "cells": [
  {
   "cell_type": "markdown",
   "metadata": {},
   "source": [
    "# Task 1"
   ]
  },
  {
   "cell_type": "markdown",
   "metadata": {},
   "source": [
    "1.1 Write a Python Program to implement your own myreduce() function which works exactly\n",
    "like Python's built-in function reduce()"
   ]
  },
  {
   "cell_type": "code",
   "execution_count": 1,
   "metadata": {},
   "outputs": [
    {
     "name": "stdout",
     "output_type": "stream",
     "text": [
      "10\n"
     ]
    }
   ],
   "source": [
    "l=[1,2,3,4]\n",
    "def myreduce():\n",
    "    x=0\n",
    "    for i in range(len(l)):\n",
    "        if i==1:\n",
    "            x=l[0]+l[i]\n",
    "            continue\n",
    "        x=x+l[i]\n",
    "    print(x)\n",
    "myreduce()    "
   ]
  },
  {
   "cell_type": "markdown",
   "metadata": {},
   "source": [
    "1,2 Write a Python program to implement your own myfilter() function which works exactly\n",
    "like Python's built-in function filter()"
   ]
  },
  {
   "cell_type": "code",
   "execution_count": 2,
   "metadata": {},
   "outputs": [
    {
     "name": "stdout",
     "output_type": "stream",
     "text": [
      "[2, 4, 6, 8]\n"
     ]
    }
   ],
   "source": [
    "l1=[2,3,4,5,6,7,8]\n",
    "def myfilter():\n",
    "    x=[]\n",
    "    for i in range(len(l1)):\n",
    "        if l1[i]%2==0:     #even\n",
    "            x.append(l1[i])\n",
    "    print(x)\n",
    "myfilter()"
   ]
  },
  {
   "cell_type": "markdown",
   "metadata": {},
   "source": [
    "2. Implement List comprehensions to produce the following lists."
   ]
  },
  {
   "cell_type": "code",
   "execution_count": 3,
   "metadata": {},
   "outputs": [
    {
     "name": "stdout",
     "output_type": "stream",
     "text": [
      "['A', 'C', 'A', 'D', 'G', 'I', 'L', 'D']\n",
      "['x', 'xx', 'xxx', 'xxxx', 'y', 'yy', 'yyy', 'yyyy', 'z', 'zz', 'zzz', 'zzzz']\n",
      "['x', 'y', 'z', 'xx', 'yy', 'zz', 'xxx', 'yyy', 'zzz', 'xxxx', 'yyyy', 'zzzz']\n",
      "[[2], [3], [4], [3], [4], [5], [4], [5], [6]]\n",
      "[[2, 3, 4, 5], [3, 4, 5, 6], [4, 5, 6, 7], [5, 6, 7, 8]]\n",
      "[(1, 1), (2, 1), (3, 1), (1, 2), (2, 2), (3, 2), (1, 3), (2, 3), (3, 3)]\n"
     ]
    }
   ],
   "source": [
    "s='ACADGILD'\n",
    "out0=[i for i in s]\n",
    "print(out0)\n",
    "\n",
    "lst = ['x','y','z']\n",
    "out = [ i*n for i in lst for n in range(1,5)  ]\n",
    "print(out)\n",
    "\n",
    "\n",
    "lst1 = ['x','y','z']\n",
    "out1 = [ i*n for n in range(1,5) for i in lst1  ]\n",
    "print(str(out1))\n",
    "\n",
    "\n",
    "lst2 = [2,3,4]\n",
    "out2 = [ [i+n] for i in lst2 for n in range(0,3)]\n",
    "print( str(out2))\n",
    "\n",
    "\n",
    "lst3 = [2,3,4,5]\n",
    "out3 = [ [i+n for i in lst3] for n in range(0,4)  ]\n",
    "print(str(out3))\n",
    "\n",
    "lst4=[1,2,3]\n",
    "out4 = [ (n,i) for i in lst4 for n in lst4]\n",
    "\n",
    "print(str(out4))"
   ]
  },
  {
   "cell_type": "markdown",
   "metadata": {},
   "source": [
    "3. Implement a function longestWord() that takes a list of words and returns the longest one."
   ]
  },
  {
   "cell_type": "code",
   "execution_count": 4,
   "metadata": {},
   "outputs": [
    {
     "name": "stdout",
     "output_type": "stream",
     "text": [
      "The longest word is: bcde\n"
     ]
    }
   ],
   "source": [
    "def longestWord(lst):\n",
    "    le=[]\n",
    "    for i in lst:\n",
    "        le.append(len(i))\n",
    "    for i in lst:\n",
    "        if(len(i)==max(le)):\n",
    "            print(\"The longest word is:\",i)           \n",
    "          \n",
    "    \n",
    "longestWord(['abc','bcde','a','xy'])   "
   ]
  },
  {
   "cell_type": "markdown",
   "metadata": {},
   "source": [
    "# Task 2"
   ]
  },
  {
   "cell_type": "markdown",
   "metadata": {},
   "source": [
    "1.1 Write a Python Program(with class concepts) to find the area of the triangle using the belowformula.area = (s*(s-a)*(s-b)*(s-c)) ** 0.5Function to take the length of the sides of triangle from user should be defined in the parentclass and function to calculate the area should be defined in subclass."
   ]
  },
  {
   "cell_type": "markdown",
   "metadata": {},
   "source": []
  },
  {
   "cell_type": "code",
   "execution_count": 5,
   "metadata": {},
   "outputs": [
    {
     "name": "stdout",
     "output_type": "stream",
     "text": [
      "(2.1211504774498136e-16+3.4641016151377544j)\n"
     ]
    }
   ],
   "source": [
    "class Area():\n",
    "    def __init__(self,s,a,b,c):\n",
    "        self.s=s\n",
    "        self.a=a\n",
    "        self.b=b\n",
    "        self.c=c\n",
    "    def form(self):\n",
    "        return (self.s*(self.s-self.a)*(self.s-self.b)*(self.s-self.c)) ** 0.5\n",
    "x=Area(2,3,4,5)\n",
    "area=x.form()\n",
    "print(area)"
   ]
  },
  {
   "cell_type": "markdown",
   "metadata": {},
   "source": [
    "1.2 Write a function filter_long_words() that takes a list of words and an integer n and returns the listof words that are longer than n."
   ]
  },
  {
   "cell_type": "code",
   "execution_count": 6,
   "metadata": {},
   "outputs": [
    {
     "name": "stdout",
     "output_type": "stream",
     "text": [
      "['abc', 'bcd']\n"
     ]
    }
   ],
   "source": [
    "def filter_long_words(lst,x):\n",
    "    new_lst=[]\n",
    "    for i in lst:\n",
    "        if len(i)>x:\n",
    "            new_lst.append(i)\n",
    "    print(new_lst)\n",
    "    \n",
    "filter_long_words(['abc','bcd','a','xy'],2)"
   ]
  },
  {
   "cell_type": "code",
   "execution_count": null,
   "metadata": {},
   "outputs": [],
   "source": []
  },
  {
   "cell_type": "markdown",
   "metadata": {},
   "source": [
    "2.1 Write a Python program using function concept that maps  list of words into a list of integersrepresenting the lengths of the corresponding words​."
   ]
  },
  {
   "cell_type": "code",
   "execution_count": 7,
   "metadata": {},
   "outputs": [
    {
     "name": "stdout",
     "output_type": "stream",
     "text": [
      "[2, 3, 4]\n"
     ]
    }
   ],
   "source": [
    "def count(lst):\n",
    "    x=[]\n",
    "    for i in lst:\n",
    "        x.append(len(i))\n",
    "    print(x)\n",
    "count(['ab','cde','erty'])    \n",
    "    "
   ]
  },
  {
   "cell_type": "markdown",
   "metadata": {},
   "source": [
    "2.2Write a Python function which takes a character (i.e. a string of length 1) and returns True if it isa vowel, False otherwise."
   ]
  },
  {
   "cell_type": "code",
   "execution_count": 8,
   "metadata": {},
   "outputs": [
    {
     "name": "stdout",
     "output_type": "stream",
     "text": [
      "Enter the character:a\n"
     ]
    },
    {
     "data": {
      "text/plain": [
       "True"
      ]
     },
     "execution_count": 8,
     "metadata": {},
     "output_type": "execute_result"
    }
   ],
   "source": [
    "def char():\n",
    "    x=input(\"Enter the character:\")\n",
    "    lst=['a','e','i','o','u']\n",
    "    for i in lst:\n",
    "        if x==i:\n",
    "            return True\n",
    "    return False\n",
    "char()"
   ]
  },
  {
   "cell_type": "code",
   "execution_count": null,
   "metadata": {},
   "outputs": [],
   "source": []
  }
 ],
 "metadata": {
  "kernelspec": {
   "display_name": "Python 3",
   "language": "python",
   "name": "python3"
  },
  "language_info": {
   "codemirror_mode": {
    "name": "ipython",
    "version": 3
   },
   "file_extension": ".py",
   "mimetype": "text/x-python",
   "name": "python",
   "nbconvert_exporter": "python",
   "pygments_lexer": "ipython3",
   "version": "3.6.10"
  }
 },
 "nbformat": 4,
 "nbformat_minor": 4
}
